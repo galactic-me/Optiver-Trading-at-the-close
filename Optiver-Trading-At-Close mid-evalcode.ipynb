{
 "cells": [
  {
   "cell_type": "code",
   "execution_count": 1,
   "id": "e8ae8e2e",
   "metadata": {
    "_cell_guid": "b1076dfc-b9ad-4769-8c92-a6c4dae69d19",
    "_uuid": "8f2839f25d086af736a60e9eeb907d3b93b6e0e5",
    "execution": {
     "iopub.execute_input": "2023-10-24T11:17:46.895805Z",
     "iopub.status.busy": "2023-10-24T11:17:46.895084Z",
     "iopub.status.idle": "2023-10-24T11:17:58.978069Z",
     "shell.execute_reply": "2023-10-24T11:17:58.976829Z"
    },
    "papermill": {
     "duration": 12.100736,
     "end_time": "2023-10-24T11:17:58.981314",
     "exception": false,
     "start_time": "2023-10-24T11:17:46.880578",
     "status": "completed"
    },
    "tags": []
   },
   "outputs": [],
   "source": [
    "## Importing dependencies\n",
    "## Author Kriti Garg, IIT Roorkee\n",
    "import numpy as np\n",
    "import pandas as pd\n",
    "import matplotlib.pyplot as plt\n",
    "import tensorflow as tf\n",
    "import keras\n",
    "from tensorflow.keras.models import Sequential\n",
    "import tensorflow.keras.backend as K\n",
    "from tensorflow.keras.layers import *\n",
    "from tensorflow.keras.callbacks import EarlyStopping\n",
    "from sklearn.preprocessing import MinMaxScaler\n",
    "from sklearn.metrics import mean_absolute_error as mae\n",
    "from sklearn.model_selection import train_test_split\n",
    "from keras.preprocessing.sequence import TimeseriesGenerator\n",
    "from gc import collect\n",
    "import pprint\n",
    "from colorama import Fore, Style, init;\n",
    "from warnings import filterwarnings;\n",
    "filterwarnings('ignore');"
   ]
  },
  {
   "cell_type": "code",
   "execution_count": 2,
   "id": "9a42a5f3",
   "metadata": {
    "execution": {
     "iopub.execute_input": "2023-10-24T11:17:59.010037Z",
     "iopub.status.busy": "2023-10-24T11:17:59.008727Z",
     "iopub.status.idle": "2023-10-24T11:17:59.015318Z",
     "shell.execute_reply": "2023-10-24T11:17:59.014487Z"
    },
    "papermill": {
     "duration": 0.024329,
     "end_time": "2023-10-24T11:17:59.017823",
     "exception": false,
     "start_time": "2023-10-24T11:17:58.993494",
     "status": "completed"
    },
    "tags": []
   },
   "outputs": [],
   "source": [
    "# Nice helper function from https://www.kaggle.com/code/ravi20076/optiver-baseline-models\n",
    "def PrintColor(text:str, color = Fore.BLUE, style = Style.BRIGHT):\n",
    "    \"Prints color outputs using colorama using a text F-string\";\n",
    "    print(style + color + text + Style.RESET_ALL); "
   ]
  },
  {
   "cell_type": "code",
   "execution_count": 3,
   "id": "21e4a488",
   "metadata": {
    "execution": {
     "iopub.execute_input": "2023-10-24T11:17:59.043704Z",
     "iopub.status.busy": "2023-10-24T11:17:59.043015Z",
     "iopub.status.idle": "2023-10-24T11:17:59.048970Z",
     "shell.execute_reply": "2023-10-24T11:17:59.046751Z"
    },
    "papermill": {
     "duration": 0.021895,
     "end_time": "2023-10-24T11:17:59.051597",
     "exception": false,
     "start_time": "2023-10-24T11:17:59.029702",
     "status": "completed"
    },
    "tags": []
   },
   "outputs": [],
   "source": [
    "tf.random.set_seed(42) # tf randomization"
   ]
  },
  {
   "cell_type": "markdown",
   "id": "7d45210b",
   "metadata": {},
   "source": [
    "If the operation seed is set, but the global seed is not set: A default global seed and the specified operation seed are used to determine the random sequence."
   ]
  },
  {
   "cell_type": "code",
   "execution_count": 4,
   "id": "4365f29f",
   "metadata": {
    "execution": {
     "iopub.execute_input": "2023-10-24T11:17:59.078307Z",
     "iopub.status.busy": "2023-10-24T11:17:59.077591Z",
     "iopub.status.idle": "2023-10-24T11:18:23.497080Z",
     "shell.execute_reply": "2023-10-24T11:18:23.496060Z"
    },
    "papermill": {
     "duration": 24.436269,
     "end_time": "2023-10-24T11:18:23.500156",
     "exception": false,
     "start_time": "2023-10-24T11:17:59.063887",
     "status": "completed"
    },
    "tags": []
   },
   "outputs": [],
   "source": [
    "# Importing the datasets\n",
    "train = pd.read_csv(r'/kaggle/input/optiver-trading-at-the-close/train.csv')#training dataset\n",
    "test = pd.read_csv(r'/kaggle/input/optiver-trading-at-the-close/example_test_files/test.csv')#testing-dataset\n",
    "collect();"
   ]
  },
  {
   "cell_type": "code",
   "execution_count": 5,
   "id": "ca9acbce",
   "metadata": {
    "execution": {
     "iopub.execute_input": "2023-10-24T11:18:23.527742Z",
     "iopub.status.busy": "2023-10-24T11:18:23.527259Z",
     "iopub.status.idle": "2023-10-24T11:18:27.208416Z",
     "shell.execute_reply": "2023-10-24T11:18:27.207109Z"
    },
    "papermill": {
     "duration": 3.698399,
     "end_time": "2023-10-24T11:18:27.211745",
     "exception": false,
     "start_time": "2023-10-24T11:18:23.513346",
     "status": "completed"
    },
    "tags": []
   },
   "outputs": [],
   "source": [
    "# We only need the targets from the training data as we are going to build a time series model for it.\n",
    "train.sort_values(by=['stock_id', 'date_id', 'seconds_in_bucket'], inplace=True) # sorting values by the following columns\n",
    "targets_df = pd.DataFrame(train[['stock_id', 'date_id', 'seconds_in_bucket', 'target']])\n",
    "collect();"
   ]
  },
  {
   "cell_type": "code",
   "execution_count": 6,
   "id": "fec040fb",
   "metadata": {
    "execution": {
     "iopub.execute_input": "2023-10-24T11:18:27.238400Z",
     "iopub.status.busy": "2023-10-24T11:18:27.237625Z",
     "iopub.status.idle": "2023-10-24T11:18:27.597900Z",
     "shell.execute_reply": "2023-10-24T11:18:27.596495Z"
    },
    "papermill": {
     "duration": 0.377473,
     "end_time": "2023-10-24T11:18:27.601290",
     "exception": false,
     "start_time": "2023-10-24T11:18:27.223817",
     "status": "completed"
    },
    "tags": []
   },
   "outputs": [],
   "source": [
    "# We can also make a revealed targets dataframe (similar to in the test case)\n",
    "# We get all the targets for the previous days, to ensure there is no leakage we enable a date access column so we can't access dates for the same day\n",
    "unique_dates = test.date_id.unique()\n",
    "revealed_targets_test = pd.DataFrame()\n",
    "targets, dates, access_dates, stocks = [], [], [], []\n",
    "\n",
    "for date in unique_dates:\n",
    "    targets.append(train.loc[train.date_id == date]['target'])\n",
    "    dates.append(train.loc[train.date_id == date - 1]['date_id'])\n",
    "    access_dates.append(train.loc[train.date_id == date]['date_id'])\n",
    "    stocks.append(train.loc[train.date_id == date]['stock_id'])\n",
    "\n",
    "# flatten the n x 3 arrays so they can be added to the dataframe\n",
    "    \n",
    "revealed_targets_test['revealed_target'] = np.array(targets).flatten()\n",
    "revealed_targets_test['date_id'] = np.array(dates).flatten()\n",
    "revealed_targets_test['access_date_id'] = np.array(access_dates).flatten()\n",
    "revealed_targets_test['stock_id'] = np.array(stocks).flatten()\n",
    "collect();"
   ]
  },
  {
   "cell_type": "markdown",
   "id": "42c81f68",
   "metadata": {
    "papermill": {
     "duration": 0.011591,
     "end_time": "2023-10-24T11:18:27.649260",
     "exception": false,
     "start_time": "2023-10-24T11:18:27.637669",
     "status": "completed"
    },
    "tags": []
   },
   "source": [
    "## Multivariate Data Preprocessing"
   ]
  },
  {
   "cell_type": "code",
   "execution_count": 7,
   "id": "82efd8ab",
   "metadata": {
    "execution": {
     "iopub.execute_input": "2023-10-24T11:18:27.675510Z",
     "iopub.status.busy": "2023-10-24T11:18:27.675053Z",
     "iopub.status.idle": "2023-10-24T11:18:27.889177Z",
     "shell.execute_reply": "2023-10-24T11:18:27.887956Z"
    },
    "papermill": {
     "duration": 0.230351,
     "end_time": "2023-10-24T11:18:27.891763",
     "exception": false,
     "start_time": "2023-10-24T11:18:27.661412",
     "status": "completed"
    },
    "tags": []
   },
   "outputs": [],
   "source": [
    "# changing the date to be multivariate where the features are stocks\n",
    "def split_stocks(df, target_col='target'):\n",
    "    y = pd.DataFrame()\n",
    "    # iterate over each stock in the dataframe and assign them to a new df y\n",
    "    for stock in df.stock_id.unique():\n",
    "        y[f'stock_{stock}'] = df.loc[df.stock_id == stock][target_col]\n",
    "    return y\n",
    "collect();"
   ]
  },
  {
   "cell_type": "code",
   "execution_count": 8,
   "id": "e8cccf08",
   "metadata": {
    "execution": {
     "iopub.execute_input": "2023-10-24T11:18:27.918350Z",
     "iopub.status.busy": "2023-10-24T11:18:27.917878Z",
     "iopub.status.idle": "2023-10-24T11:18:27.923064Z",
     "shell.execute_reply": "2023-10-24T11:18:27.921547Z"
    },
    "papermill": {
     "duration": 0.022162,
     "end_time": "2023-10-24T11:18:27.926154",
     "exception": false,
     "start_time": "2023-10-24T11:18:27.903992",
     "status": "completed"
    },
    "tags": []
   },
   "outputs": [],
   "source": [
    "# note we cannot run this as there are missing values for certain stocks\n",
    "# we can find the number of na values too, but that's not our agenda\n",
    "#y = split_stocks(targets_df)"
   ]
  },
  {
   "cell_type": "code",
   "execution_count": 9,
   "id": "a874fdbd",
   "metadata": {
    "execution": {
     "iopub.execute_input": "2023-10-24T11:18:27.952696Z",
     "iopub.status.busy": "2023-10-24T11:18:27.952184Z",
     "iopub.status.idle": "2023-10-24T11:25:18.499938Z",
     "shell.execute_reply": "2023-10-24T11:25:18.498503Z"
    },
    "papermill": {
     "duration": 410.578075,
     "end_time": "2023-10-24T11:25:18.516492",
     "exception": false,
     "start_time": "2023-10-24T11:18:27.938417",
     "status": "completed"
    },
    "tags": []
   },
   "outputs": [
    {
     "name": "stdout",
     "output_type": "stream",
     "text": [
      "          0         1         2         3         4         5         6  \\\n",
      "1 -3.029704 -5.519986 -8.389950 -4.010200 -7.349849  6.779432 -2.499819   \n",
      "2  0.389814 -1.620054 -7.460117 -1.040101 -6.719828  7.710457 -4.280209   \n",
      "3  4.220009 -6.459951 -6.380081 -2.030134 -0.690222  1.009703  2.930164   \n",
      "\n",
      "           7         8         9  ...        192       193       194  \\\n",
      "1  -1.959801 -5.970001  7.970333  ... -11.529922 -6.489754  3.999472   \n",
      "2  -8.010268 -0.780225 -0.640154  ... -15.599728 -1.749992 -9.030104   \n",
      "3 -12.069941 -4.119873 -3.250241  ... -12.710094  2.160072 -9.999871   \n",
      "\n",
      "        195       196       197       198  199  date_id  seconds_in_bucket  \n",
      "1 -0.690222 -0.810027 -8.440018 -0.510216  NaN      0.0                0.0  \n",
      "2 -1.320243 -3.259778 -4.410148 -1.419783  NaN      0.0               10.0  \n",
      "3  5.890131 -0.029802 -6.819964  2.599955  NaN      0.0               20.0  \n",
      "\n",
      "[3 rows x 202 columns]\n",
      "CPU times: user 6min 53s, sys: 565 ms, total: 6min 54s\n",
      "Wall time: 6min 50s\n"
     ]
    }
   ],
   "source": [
    "%%time # for checking how much time is required\n",
    "# can we create a new dataframe that includes NaN values when a stock doesnt have a value for that date\n",
    "\n",
    "# this method is quicker but still slow (any suggestions to improve this are welcome)\n",
    "def rearrange_df(df, target_col='target'):\n",
    "    # start by getting the unique values of each date, stock and seconds\n",
    "    unique_dates = df.date_id.unique()\n",
    "    unique_stocks = df.stock_id.unique()\n",
    "    unique_seconds = df.seconds_in_bucket.unique()\n",
    "    \n",
    "    cols = list(unique_stocks)\n",
    "    cols.append('date_id')\n",
    "    cols.append('seconds_in_bucket')\n",
    "    # init a df that values can be placed in\n",
    "    d = pd.DataFrame([np.zeros(202)], columns=cols)\n",
    "    \n",
    "    for date in unique_dates:\n",
    "        # get the values for the date_id == date\n",
    "        date_df = df.loc[df.date_id == date]\n",
    "        for seconds in unique_seconds:\n",
    "            # get the values for the seconds_in_bucket == seconds at date_id == date\n",
    "            seconds_df = date_df[date_df.seconds_in_bucket == seconds]\n",
    "\n",
    "            # list of stock_ids that have values at this time point, to be used as columns for temp df\n",
    "            columns = list(seconds_df.stock_id.values)\n",
    "            columns.append('date_id')\n",
    "            columns.append('seconds_in_bucket')\n",
    "\n",
    "            # list of target values, date_id and seconds_in_bucket for the given time point\n",
    "            values = list(seconds_df[target_col].values)\n",
    "            values.append(date)\n",
    "            values.append(seconds)\n",
    "\n",
    "            # init df with these values and concat with first df\n",
    "            seconds_df_new = pd.DataFrame([values], columns=columns)\n",
    "            d = pd.concat([d, seconds_df_new], axis=0, ignore_index=True)\n",
    "\n",
    "    return d\n",
    "\n",
    "d = rearrange_df(targets_df)\n",
    "\n",
    "# drop the row used in the initialisation\n",
    "d.drop(0, axis=0, inplace=True)\n",
    "print(d.head(3))\n",
    "collect();"
   ]
  },
  {
   "cell_type": "markdown",
   "id": "9e842632",
   "metadata": {
    "papermill": {
     "duration": 0.011609,
     "end_time": "2023-10-24T11:25:18.540152",
     "exception": false,
     "start_time": "2023-10-24T11:25:18.528543",
     "status": "completed"
    },
    "tags": []
   },
   "source": [
    "### Investigating missing values\n",
    "##### We already know there are missing values for stocks at specific timepoints, can we see whether they are distributed evenly or they are for one specific stock."
   ]
  },
  {
   "cell_type": "code",
   "execution_count": 10,
   "id": "64ae9cd8",
   "metadata": {
    "execution": {
     "iopub.execute_input": "2023-10-24T11:25:18.566383Z",
     "iopub.status.busy": "2023-10-24T11:25:18.565960Z",
     "iopub.status.idle": "2023-10-24T11:25:19.183582Z",
     "shell.execute_reply": "2023-10-24T11:25:19.182114Z"
    },
    "papermill": {
     "duration": 0.634677,
     "end_time": "2023-10-24T11:25:19.186839",
     "exception": false,
     "start_time": "2023-10-24T11:25:18.552162",
     "status": "completed"
    },
    "tags": []
   },
   "outputs": [
    {
     "name": "stdout",
     "output_type": "stream",
     "text": [
      "\u001b[1m\u001b[34m---Percentage of targets that are missing for each stock---\u001b[0m\n"
     ]
    },
    {
     "data": {
      "image/png": "[encoded data removed]",
      "text/plain": [
       "<Figure size 640x480 with 1 Axes>"
      ]
     },
     "metadata": {},
     "output_type": "display_data"
    }
   ],
   "source": [
    "numerical_d = d.drop(['date_id', 'seconds_in_bucket'], axis=1)\n",
    "PrintColor('---Percentage of targets that are missing for each stock---')\n",
    "plt.plot(numerical_d.isna().sum() / len(numerical_d))\n",
    "plt.show()\n",
    "collect();"
   ]
  },
  {
   "cell_type": "code",
   "execution_count": 11,
   "id": "84c28abc",
   "metadata": {
    "execution": {
     "iopub.execute_input": "2023-10-24T11:25:19.215154Z",
     "iopub.status.busy": "2023-10-24T11:25:19.214699Z",
     "iopub.status.idle": "2023-10-24T11:25:19.289280Z",
     "shell.execute_reply": "2023-10-24T11:25:19.287795Z"
    },
    "papermill": {
     "duration": 0.092607,
     "end_time": "2023-10-24T11:25:19.292432",
     "exception": false,
     "start_time": "2023-10-24T11:25:19.199825",
     "status": "completed"
    },
    "tags": []
   },
   "outputs": [],
   "source": [
    "# for now just fill the missing values with 0s, in future use more complex ways to impute NaNs e.g impute the mean value, use a simple ARIMA model, or a generative n-network\n",
    "numerical_d.fillna(0, inplace=True)"
   ]
  },
  {
   "cell_type": "markdown",
   "id": "0f9da93c",
   "metadata": {
    "papermill": {
     "duration": 0.012145,
     "end_time": "2023-10-24T11:25:19.317169",
     "exception": false,
     "start_time": "2023-10-24T11:25:19.305024",
     "status": "completed"
    },
    "tags": []
   },
   "source": [
    "### Normalisation"
   ]
  },
  {
   "cell_type": "markdown",
   "id": "50134d20",
   "metadata": {},
   "source": [
    "It helps in convering of gradients faster and also helps in feature scaling so thay no feature gets an advantage"
   ]
  },
  {
   "cell_type": "code",
   "execution_count": 12,
   "id": "e1f9c012",
   "metadata": {
    "execution": {
     "iopub.execute_input": "2023-10-24T11:25:19.345717Z",
     "iopub.status.busy": "2023-10-24T11:25:19.345236Z",
     "iopub.status.idle": "2023-10-24T11:25:19.354333Z",
     "shell.execute_reply": "2023-10-24T11:25:19.352888Z"
    },
    "papermill": {
     "duration": 0.026782,
     "end_time": "2023-10-24T11:25:19.357161",
     "exception": false,
     "start_time": "2023-10-24T11:25:19.330379",
     "status": "completed"
    },
    "tags": []
   },
   "outputs": [],
   "source": [
    "scaler = MinMaxScaler(feature_range=(-1, 1))\n",
    "# Normalise and fit the data (only to be used on the training set)\n",
    "def normalise_and_fit(df):\n",
    "    df = df.copy()\n",
    "    df[df.columns] = scaler.fit_transform(df[df.columns])\n",
    "    return df\n",
    "\n",
    "# Just normalise the data, used in test and validation\n",
    "def normalize_df(df):\n",
    "    df = df.copy()\n",
    "    df[df.columns] = scaler.transform(df[df.columns])\n",
    "    return df\n",
    "\n",
    "# different helper function for just 1D arrays\n",
    "def normalize_1D_array(arr, n_samples=1, n_features=200):\n",
    "    arr = scaler.transform(X.reshape(n_samples, n_features))\n",
    "    return arr"
   ]
  },
  {
   "cell_type": "code",
   "execution_count": 13,
   "id": "93a46a43",
   "metadata": {
    "execution": {
     "iopub.execute_input": "2023-10-24T11:25:19.384732Z",
     "iopub.status.busy": "2023-10-24T11:25:19.384244Z",
     "iopub.status.idle": "2023-10-24T11:25:19.580037Z",
     "shell.execute_reply": "2023-10-24T11:25:19.578787Z"
    },
    "papermill": {
     "duration": 0.213163,
     "end_time": "2023-10-24T11:25:19.583127",
     "exception": false,
     "start_time": "2023-10-24T11:25:19.369964",
     "status": "completed"
    },
    "tags": []
   },
   "outputs": [],
   "source": [
    "normalised_numerical_df = normalise_and_fit(numerical_d) # normalizing the data"
   ]
  },
  {
   "cell_type": "markdown",
   "id": "e1456d47",
   "metadata": {
    "papermill": {
     "duration": 0.012264,
     "end_time": "2023-10-24T11:25:19.608092",
     "exception": false,
     "start_time": "2023-10-24T11:25:19.595828",
     "status": "completed"
    },
    "tags": []
   },
   "source": [
    "### Training"
   ]
  },
  {
   "cell_type": "markdown",
   "id": "05b98900",
   "metadata": {},
   "source": [
    "We may split with some other ratio too, shuffle=False is important to keep the sequential information intact"
   ]
  },
  {
   "cell_type": "code",
   "execution_count": 14,
   "id": "68fea3ec",
   "metadata": {
    "execution": {
     "iopub.execute_input": "2023-10-24T11:25:19.637173Z",
     "iopub.status.busy": "2023-10-24T11:25:19.636707Z",
     "iopub.status.idle": "2023-10-24T11:25:20.199373Z",
     "shell.execute_reply": "2023-10-24T11:25:20.198077Z"
    },
    "papermill": {
     "duration": 0.580491,
     "end_time": "2023-10-24T11:25:20.202852",
     "exception": false,
     "start_time": "2023-10-24T11:25:19.622361",
     "status": "completed"
    },
    "tags": []
   },
   "outputs": [],
   "source": [
    "# gets close to 60% train, 15% validation, 15% test\n",
    "train, test_df = train_test_split(normalised_numerical_df, train_size = .85, random_state=42, shuffle=False)\n",
    "train_df, val_df = train_test_split(train, train_size=12/17, random_state=42, shuffle=False)"
   ]
  },
  {
   "cell_type": "code",
   "execution_count": 15,
   "id": "a366752b",
   "metadata": {
    "execution": {
     "iopub.execute_input": "2023-10-24T11:25:20.229933Z",
     "iopub.status.busy": "2023-10-24T11:25:20.229472Z",
     "iopub.status.idle": "2023-10-24T11:25:20.235400Z",
     "shell.execute_reply": "2023-10-24T11:25:20.234129Z"
    },
    "papermill": {
     "duration": 0.023276,
     "end_time": "2023-10-24T11:25:20.238499",
     "exception": false,
     "start_time": "2023-10-24T11:25:20.215223",
     "status": "completed"
    },
    "tags": []
   },
   "outputs": [],
   "source": [
    "input_series_length = 55\n",
    "output_series_length = 55\n",
    "n_features = 200\n",
    "batch_size = 128\n",
    "n_samples = len(train) // batch_size"
   ]
  },
  {
   "cell_type": "code",
   "execution_count": 16,
   "id": "62019219",
   "metadata": {
    "execution": {
     "iopub.execute_input": "2023-10-24T11:25:20.266668Z",
     "iopub.status.busy": "2023-10-24T11:25:20.265744Z",
     "iopub.status.idle": "2023-10-24T11:25:20.274932Z",
     "shell.execute_reply": "2023-10-24T11:25:20.273925Z"
    },
    "papermill": {
     "duration": 0.026371,
     "end_time": "2023-10-24T11:25:20.277606",
     "exception": false,
     "start_time": "2023-10-24T11:25:20.251235",
     "status": "completed"
    },
    "tags": []
   },
   "outputs": [],
   "source": [
    "# used a research papet to replicate this approach (has been shared in github)\n",
    "def multivariate_multioutput_data(dataset, target, start_index, end_index, history_size,\n",
    "                      target_size, step, single_step=False):\n",
    "    data = []\n",
    "    labels = []\n",
    "\n",
    "    start_index = start_index + history_size\n",
    "    if end_index is None:\n",
    "        end_index = len(dataset) - target_size\n",
    "\n",
    "    for i in range(start_index, end_index):\n",
    "        indices = range(i-history_size, i, step)\n",
    "        data.append(dataset[indices])\n",
    "        \n",
    "        if single_step:\n",
    "            labels.append(target[i+target_size])\n",
    "        else:\n",
    "            labels.append(target[i:i+target_size])\n",
    "    \n",
    "    return np.array(data), np.array(labels)"
   ]
  },
  {
   "cell_type": "code",
   "execution_count": 17,
   "id": "11de0fdc",
   "metadata": {
    "execution": {
     "iopub.execute_input": "2023-10-24T11:25:20.305466Z",
     "iopub.status.busy": "2023-10-24T11:25:20.304545Z",
     "iopub.status.idle": "2023-10-24T11:25:24.327274Z",
     "shell.execute_reply": "2023-10-24T11:25:24.325811Z"
    },
    "papermill": {
     "duration": 4.040295,
     "end_time": "2023-10-24T11:25:24.330415",
     "exception": false,
     "start_time": "2023-10-24T11:25:20.290120",
     "status": "completed"
    },
    "scrolled": true,
    "tags": []
   },
   "outputs": [],
   "source": [
    "train_X, train_y = multivariate_multioutput_data(train_df.to_numpy(), train_df.to_numpy(), 0, None, input_series_length, output_series_length, 1)\n",
    "val_X, val_y = multivariate_multioutput_data(val_df.to_numpy(), val_df.to_numpy(), 0, None, input_series_length, output_series_length, 1)\n",
    "test_X, test_y = multivariate_multioutput_data(test_df.to_numpy(), test_df.to_numpy(), 0, None, input_series_length, output_series_length, 1)"
   ]
  },
  {
   "cell_type": "code",
   "execution_count": 18,
   "id": "b5ffc148",
   "metadata": {
    "execution": {
     "iopub.execute_input": "2023-10-24T11:25:24.357584Z",
     "iopub.status.busy": "2023-10-24T11:25:24.357113Z",
     "iopub.status.idle": "2023-10-24T11:25:24.364223Z",
     "shell.execute_reply": "2023-10-24T11:25:24.362907Z"
    },
    "papermill": {
     "duration": 0.024686,
     "end_time": "2023-10-24T11:25:24.367680",
     "exception": false,
     "start_time": "2023-10-24T11:25:24.342994",
     "status": "completed"
    },
    "tags": []
   },
   "outputs": [
    {
     "name": "stdout",
     "output_type": "stream",
     "text": [
      "(15762, 55, 200)\n",
      "(15762, 55, 200)\n",
      "(6504, 55, 200)\n",
      "(6504, 55, 200)\n",
      "Single window of past history : (55, 200)\n",
      "Target window to predict : (55, 200)\n"
     ]
    }
   ],
   "source": [
    "print (train_X.shape,\n",
    "       train_y.shape,\n",
    "       val_X.shape,\n",
    "       val_y.shape,\n",
    "       'Single window of past history : {}'.format(train_X[0].shape),\n",
    "       'Target window to predict : {}'.format(train_y[0].shape),\n",
    "       sep='\\n')"
   ]
  },
  {
   "cell_type": "code",
   "execution_count": 19,
   "id": "52989873",
   "metadata": {
    "execution": {
     "iopub.execute_input": "2023-10-24T11:25:24.471842Z",
     "iopub.status.busy": "2023-10-24T11:25:24.471383Z",
     "iopub.status.idle": "2023-10-24T11:25:29.100212Z",
     "shell.execute_reply": "2023-10-24T11:25:29.098565Z"
    },
    "papermill": {
     "duration": 4.723533,
     "end_time": "2023-10-24T11:25:29.103488",
     "exception": false,
     "start_time": "2023-10-24T11:25:24.379955",
     "status": "completed"
    },
    "tags": []
   },
   "outputs": [],
   "source": [
    "train_data_multi = tf.data.Dataset.from_tensor_slices((train_X, train_y))\n",
    "train_data_multi = train_data_multi.batch(batch_size).repeat()\n",
    "\n",
    "val_data_multi = tf.data.Dataset.from_tensor_slices((val_X, val_y))\n",
    "val_data_multi = val_data_multi.batch(batch_size).repeat()\n",
    "collect();"
   ]
  },
  {
   "cell_type": "markdown",
   "id": "7b17e274",
   "metadata": {},
   "source": [
    "## Model building"
   ]
  },
  {
   "cell_type": "code",
   "execution_count": 20,
   "id": "14b8ee6a",
   "metadata": {
    "execution": {
     "iopub.execute_input": "2023-10-24T11:25:29.133278Z",
     "iopub.status.busy": "2023-10-24T11:25:29.132797Z",
     "iopub.status.idle": "2023-10-24T11:25:29.594633Z",
     "shell.execute_reply": "2023-10-24T11:25:29.593191Z"
    },
    "papermill": {
     "duration": 0.480473,
     "end_time": "2023-10-24T11:25:29.598390",
     "exception": false,
     "start_time": "2023-10-24T11:25:29.117917",
     "status": "completed"
    },
    "tags": []
   },
   "outputs": [
    {
     "name": "stdout",
     "output_type": "stream",
     "text": [
      "Model: \"sequential\"\n",
      "_________________________________________________________________\n",
      " Layer (type)                Output Shape              Param #   \n",
      "=================================================================\n",
      " lstm (LSTM)                 (None, 55, 200)           320800    \n",
      "                                                                 \n",
      "=================================================================\n",
      "Total params: 320,800\n",
      "Trainable params: 320,800\n",
      "Non-trainable params: 0\n",
      "_________________________________________________________________\n"
     ]
    }
   ],
   "source": [
    "# Add the Time2Vec layer (modify 'output_dim' as needed)\n",
    "model = Sequential()\n",
    "\n",
    "# Add the LSTM layer with return_sequences=True\n",
    "model.add(LSTM(200, activation='tanh', return_sequences=True, input_shape=(input_series_length, n_features)))\n",
    "\n",
    "# Compile the model\n",
    "model.compile(optimizer='adam', loss='mae', metrics=['mse', 'accuracy'])\n",
    "\n",
    "# Print model summary\n",
    "model.summary()"
   ]
  },
  {
   "cell_type": "markdown",
   "id": "f2829dff",
   "metadata": {},
   "source": [
    "Using early stopping to avoid stucking in plateau, when the validation loss hits saturation"
   ]
  },
  {
   "cell_type": "code",
   "execution_count": 21,
   "id": "9b6c83fd",
   "metadata": {
    "execution": {
     "iopub.execute_input": "2023-10-24T11:25:29.630025Z",
     "iopub.status.busy": "2023-10-24T11:25:29.628583Z",
     "iopub.status.idle": "2023-10-24T11:25:29.634835Z",
     "shell.execute_reply": "2023-10-24T11:25:29.633539Z"
    },
    "papermill": {
     "duration": 0.025024,
     "end_time": "2023-10-24T11:25:29.637356",
     "exception": false,
     "start_time": "2023-10-24T11:25:29.612332",
     "status": "completed"
    },
    "tags": []
   },
   "outputs": [],
   "source": [
    "early_stopping = EarlyStopping(monitor='val_loss', patience = 5, restore_best_weights=True)"
   ]
  },
  {
   "cell_type": "markdown",
   "id": "c7259dff",
   "metadata": {},
   "source": [
    "Storing the epoch results in 'history' variable, for plotting purpose and visualization"
   ]
  },
  {
   "cell_type": "code",
   "execution_count": 22,
   "id": "2765b33c",
   "metadata": {
    "execution": {
     "iopub.execute_input": "2023-10-24T11:25:29.667926Z",
     "iopub.status.busy": "2023-10-24T11:25:29.666850Z",
     "iopub.status.idle": "2023-10-24T11:37:33.162600Z",
     "shell.execute_reply": "2023-10-24T11:37:33.160600Z"
    },
    "papermill": {
     "duration": 723.690986,
     "end_time": "2023-10-24T11:37:33.342013",
     "exception": false,
     "start_time": "2023-10-24T11:25:29.651027",
     "status": "completed"
    },
    "scrolled": true,
    "tags": []
   },
   "outputs": [
    {
     "name": "stdout",
     "output_type": "stream",
     "text": [
      "Epoch 1/100\n",
      "175/175 [==============================] - 72s 397ms/step - loss: 0.0851 - mse: 0.0146 - accuracy: 0.2796 - val_loss: 0.0829 - val_mse: 0.0135 - val_accuracy: 0.3039\n",
      "Epoch 2/100\n",
      "175/175 [==============================] - 93s 531ms/step - loss: 0.0844 - mse: 0.0143 - accuracy: 0.2796 - val_loss: 0.0823 - val_mse: 0.0133 - val_accuracy: 0.3068\n",
      "Epoch 3/100\n",
      "175/175 [==============================] - 69s 392ms/step - loss: 0.0778 - mse: 0.0124 - accuracy: 0.3213 - val_loss: 0.0820 - val_mse: 0.0132 - val_accuracy: 0.3073\n",
      "Epoch 4/100\n",
      "175/175 [==============================] - 68s 391ms/step - loss: 0.0829 - mse: 0.0140 - accuracy: 0.2879 - val_loss: 0.0821 - val_mse: 0.0133 - val_accuracy: 0.3039\n",
      "Epoch 5/100\n",
      "175/175 [==============================] - 69s 392ms/step - loss: 0.0801 - mse: 0.0130 - accuracy: 0.3028 - val_loss: 0.0820 - val_mse: 0.0132 - val_accuracy: 0.3079\n",
      "Epoch 6/100\n",
      "175/175 [==============================] - 69s 397ms/step - loss: 0.0799 - mse: 0.0132 - accuracy: 0.3090 - val_loss: 0.0822 - val_mse: 0.0133 - val_accuracy: 0.3075\n",
      "Epoch 7/100\n",
      "175/175 [==============================] - 69s 397ms/step - loss: 0.0817 - mse: 0.0135 - accuracy: 0.2863 - val_loss: 0.0822 - val_mse: 0.0133 - val_accuracy: 0.3068\n",
      "Epoch 8/100\n",
      "175/175 [==============================] - 68s 389ms/step - loss: 0.0770 - mse: 0.0122 - accuracy: 0.3233 - val_loss: 0.0823 - val_mse: 0.0133 - val_accuracy: 0.3078\n",
      "Epoch 9/100\n",
      "175/175 [==============================] - 74s 421ms/step - loss: 0.0830 - mse: 0.0140 - accuracy: 0.2830 - val_loss: 0.0825 - val_mse: 0.0134 - val_accuracy: 0.3047\n",
      "Epoch 10/100\n",
      "175/175 [==============================] - 70s 401ms/step - loss: 0.0781 - mse: 0.0125 - accuracy: 0.3138 - val_loss: 0.0823 - val_mse: 0.0133 - val_accuracy: 0.3003\n"
     ]
    }
   ],
   "source": [
    "history = model.fit(train_data_multi, validation_data=val_data_multi, steps_per_epoch = n_samples, validation_steps=n_samples, epochs=100, verbose=1, callbacks=[early_stopping]).history"
   ]
  },
  {
   "cell_type": "markdown",
   "id": "808680ce",
   "metadata": {},
   "source": [
    "## Plot"
   ]
  },
  {
   "cell_type": "code",
   "execution_count": 23,
   "id": "a98c45cd",
   "metadata": {
    "execution": {
     "iopub.execute_input": "2023-10-24T11:37:33.704585Z",
     "iopub.status.busy": "2023-10-24T11:37:33.704000Z",
     "iopub.status.idle": "2023-10-24T11:37:34.077418Z",
     "shell.execute_reply": "2023-10-24T11:37:34.076513Z"
    },
    "papermill": {
     "duration": 0.557948,
     "end_time": "2023-10-24T11:37:34.080035",
     "exception": false,
     "start_time": "2023-10-24T11:37:33.522087",
     "status": "completed"
    },
    "tags": []
   },
   "outputs": [
    {
     "data": {
      "image/png": "[encoded data removed]",
      "text/plain": [
       "<Figure size 640x480 with 1 Axes>"
      ]
     },
     "metadata": {},
     "output_type": "display_data"
    }
   ],
   "source": [
    "plt.plot(history['loss'])\n",
    "plt.plot(history['val_loss'])\n",
    "plt.title('model train vs validation loss')\n",
    "plt.ylabel('loss')\n",
    "plt.xlabel('epoch')\n",
    "plt.legend(['train', 'validation'], loc='upper right')\n",
    "plt.show()"
   ]
  },
  {
   "cell_type": "markdown",
   "id": "ba9fa7c1",
   "metadata": {
    "papermill": {
     "duration": 0.178438,
     "end_time": "2023-10-24T11:37:34.437221",
     "exception": false,
     "start_time": "2023-10-24T11:37:34.258783",
     "status": "completed"
    },
    "tags": []
   },
   "source": [
    "### Making Predictions"
   ]
  },
  {
   "cell_type": "code",
   "execution_count": 24,
   "id": "d77919df",
   "metadata": {
    "execution": {
     "iopub.execute_input": "2023-10-24T11:37:34.815061Z",
     "iopub.status.busy": "2023-10-24T11:37:34.814587Z",
     "iopub.status.idle": "2023-10-24T11:37:42.618305Z",
     "shell.execute_reply": "2023-10-24T11:37:42.617007Z"
    },
    "papermill": {
     "duration": 7.992756,
     "end_time": "2023-10-24T11:37:42.621470",
     "exception": false,
     "start_time": "2023-10-24T11:37:34.628714",
     "status": "completed"
    },
    "tags": []
   },
   "outputs": [
    {
     "name": "stdout",
     "output_type": "stream",
     "text": [
      "121/121 [==============================] - 7s 50ms/step\n"
     ]
    }
   ],
   "source": [
    "predictions = model.predict(test_X)\n",
    "scaled_pred = scaler.inverse_transform(predictions.reshape(predictions.shape[0] * predictions.shape[1], predictions.shape[2]))\n",
    "scaled_true = scaler.inverse_transform(test_y.reshape(predictions.shape[0] * predictions.shape[1], predictions.shape[2]))"
   ]
  },
  {
   "cell_type": "code",
   "execution_count": 25,
   "id": "b16f3ce0",
   "metadata": {
    "execution": {
     "iopub.execute_input": "2023-10-24T11:37:42.995969Z",
     "iopub.status.busy": "2023-10-24T11:37:42.995221Z",
     "iopub.status.idle": "2023-10-24T11:37:44.684935Z",
     "shell.execute_reply": "2023-10-24T11:37:44.683288Z"
    },
    "papermill": {
     "duration": 1.881424,
     "end_time": "2023-10-24T11:37:44.687516",
     "exception": false,
     "start_time": "2023-10-24T11:37:42.806092",
     "status": "completed"
    },
    "tags": []
   },
   "outputs": [
    {
     "name": "stdout",
     "output_type": "stream",
     "text": [
      "\u001b[1m\u001b[34mMAE on normalised test data: 0.07426444454707237\u001b[0m\n",
      "\u001b[1m\u001b[34mMAE on test data: 5.943275290057224\u001b[0m\n"
     ]
    }
   ],
   "source": [
    "PrintColor(f'MAE on normalised test data: {mae(test_y.flatten(), predictions.flatten())}')\n",
    "PrintColor(f'MAE on test data: {mae(scaled_true, scaled_pred)}')"
   ]
  },
  {
   "cell_type": "markdown",
   "id": "19112655",
   "metadata": {
    "papermill": {
     "duration": 0.188433,
     "end_time": "2023-10-24T11:37:45.061156",
     "exception": false,
     "start_time": "2023-10-24T11:37:44.872723",
     "status": "completed"
    },
    "tags": []
   },
   "source": [
    "### Using the Optiver Environment\n",
    "For submission as mentioned in the contest"
   ]
  },
  {
   "cell_type": "code",
   "execution_count": 26,
   "id": "d7534893",
   "metadata": {
    "execution": {
     "iopub.execute_input": "2023-10-24T11:37:45.590219Z",
     "iopub.status.busy": "2023-10-24T11:37:45.589778Z",
     "iopub.status.idle": "2023-10-24T11:37:45.598099Z",
     "shell.execute_reply": "2023-10-24T11:37:45.596699Z"
    },
    "papermill": {
     "duration": 0.201539,
     "end_time": "2023-10-24T11:37:45.601081",
     "exception": false,
     "start_time": "2023-10-24T11:37:45.399542",
     "status": "completed"
    },
    "tags": []
   },
   "outputs": [
    {
     "data": {
      "text/plain": [
       "(55, 200)"
      ]
     },
     "execution_count": 26,
     "metadata": {},
     "output_type": "execute_result"
    }
   ],
   "source": [
    "predictions[0].shape # checking if the predictions is in right shape or not"
   ]
  },
  {
   "cell_type": "code",
   "execution_count": 27,
   "id": "52de4db2",
   "metadata": {
    "execution": {
     "iopub.execute_input": "2023-10-24T11:37:45.970609Z",
     "iopub.status.busy": "2023-10-24T11:37:45.970142Z",
     "iopub.status.idle": "2023-10-24T11:37:45.976442Z",
     "shell.execute_reply": "2023-10-24T11:37:45.974760Z"
    },
    "papermill": {
     "duration": 0.193824,
     "end_time": "2023-10-24T11:37:45.979108",
     "exception": false,
     "start_time": "2023-10-24T11:37:45.785284",
     "status": "completed"
    },
    "tags": []
   },
   "outputs": [],
   "source": [
    "# return a full row of predictions\n",
    "def invert(X):\n",
    "    scaled_predictions = scaler.inverse_transform(X.reshape(1, 200))\n",
    "    return scaled_predictions"
   ]
  },
  {
   "cell_type": "code",
   "execution_count": 28,
   "id": "917e29b3",
   "metadata": {
    "execution": {
     "iopub.execute_input": "2023-10-24T11:37:46.353835Z",
     "iopub.status.busy": "2023-10-24T11:37:46.353124Z",
     "iopub.status.idle": "2023-10-24T11:37:46.398562Z",
     "shell.execute_reply": "2023-10-24T11:37:46.397236Z"
    },
    "papermill": {
     "duration": 0.236959,
     "end_time": "2023-10-24T11:37:46.401405",
     "exception": false,
     "start_time": "2023-10-24T11:37:46.164446",
     "status": "completed"
    },
    "tags": []
   },
   "outputs": [],
   "source": [
    "import optiver2023 # importing the dependency as told in contest\n",
    "env = optiver2023.make_env()\n",
    "iter_test = env.iter_test()"
   ]
  },
  {
   "cell_type": "code",
   "execution_count": 29,
   "id": "92b22407",
   "metadata": {
    "execution": {
     "iopub.execute_input": "2023-10-24T11:37:46.771038Z",
     "iopub.status.busy": "2023-10-24T11:37:46.770554Z",
     "iopub.status.idle": "2023-10-24T11:38:35.896168Z",
     "shell.execute_reply": "2023-10-24T11:38:35.894542Z"
    },
    "papermill": {
     "duration": 49.313255,
     "end_time": "2023-10-24T11:38:35.899554",
     "exception": false,
     "start_time": "2023-10-24T11:37:46.586299",
     "status": "completed"
    },
    "scrolled": true,
    "tags": []
   },
   "outputs": [
    {
     "name": "stdout",
     "output_type": "stream",
     "text": [
      "This version of the API is not optimized and should not be used to estimate the runtime of your code on the hidden test set.\n"
     ]
    }
   ],
   "source": [
    "for i, (test, revealed_targets, sample_prediction) in enumerate(iter_test):\n",
    "    \n",
    "    if i % 55 == 0:\n",
    "        target_history = rearrange_df(revealed_targets, target_col='revealed_target')\n",
    "        target_history.drop(['date_id', 'seconds_in_bucket'], axis=1, inplace=True)\n",
    "        normalised_history = normalize_df(target_history)\n",
    "        predictions = model.predict(np.array(normalised_history.iloc[-input_series_length:]).reshape(1, output_series_length, n_features), verbose=False)\n",
    "        df = pd.DataFrame(predictions[0])\n",
    "        normalised_history = pd.concat([normalised_history, df], ignore_index=True)\n",
    "    pred = invert(normalised_history.iloc[55+(i%55)].to_numpy())\n",
    "    sample_prediction['target'] = pred[0]\n",
    "    env.predict(sample_prediction)\n",
    "    collect();"
   ]
  },
  {
   "cell_type": "code",
   "execution_count": 30,
   "id": "5ee3ab24",
   "metadata": {
    "execution": {
     "iopub.execute_input": "2023-10-24T11:38:36.277700Z",
     "iopub.status.busy": "2023-10-24T11:38:36.277140Z",
     "iopub.status.idle": "2023-10-24T11:38:36.299416Z",
     "shell.execute_reply": "2023-10-24T11:38:36.297887Z"
    },
    "papermill": {
     "duration": 0.215226,
     "end_time": "2023-10-24T11:38:36.301993",
     "exception": false,
     "start_time": "2023-10-24T11:38:36.086767",
     "status": "completed"
    },
    "tags": []
   },
   "outputs": [
    {
     "data": {
      "text/html": [
       "<div>\n",
       "<style scoped>\n",
       "    .dataframe tbody tr th:only-of-type {\n",
       "        vertical-align: middle;\n",
       "    }\n",
       "\n",
       "    .dataframe tbody tr th {\n",
       "        vertical-align: top;\n",
       "    }\n",
       "\n",
       "    .dataframe thead th {\n",
       "        text-align: right;\n",
       "    }\n",
       "</style>\n",
       "<table border=\"1\" class=\"dataframe\">\n",
       "  <thead>\n",
       "    <tr style=\"text-align: right;\">\n",
       "      <th></th>\n",
       "      <th>target</th>\n",
       "    </tr>\n",
       "  </thead>\n",
       "  <tbody>\n",
       "    <tr>\n",
       "      <th>count</th>\n",
       "      <td>200.000000</td>\n",
       "    </tr>\n",
       "    <tr>\n",
       "      <th>mean</th>\n",
       "      <td>-0.191537</td>\n",
       "    </tr>\n",
       "    <tr>\n",
       "      <th>std</th>\n",
       "      <td>1.088341</td>\n",
       "    </tr>\n",
       "    <tr>\n",
       "      <th>min</th>\n",
       "      <td>-5.614479</td>\n",
       "    </tr>\n",
       "    <tr>\n",
       "      <th>25%</th>\n",
       "      <td>-0.792665</td>\n",
       "    </tr>\n",
       "    <tr>\n",
       "      <th>50%</th>\n",
       "      <td>-0.100359</td>\n",
       "    </tr>\n",
       "    <tr>\n",
       "      <th>75%</th>\n",
       "      <td>0.509324</td>\n",
       "    </tr>\n",
       "    <tr>\n",
       "      <th>max</th>\n",
       "      <td>2.556439</td>\n",
       "    </tr>\n",
       "  </tbody>\n",
       "</table>\n",
       "</div>"
      ],
      "text/plain": [
       "           target\n",
       "count  200.000000\n",
       "mean    -0.191537\n",
       "std      1.088341\n",
       "min     -5.614479\n",
       "25%     -0.792665\n",
       "50%     -0.100359\n",
       "75%      0.509324\n",
       "max      2.556439"
      ]
     },
     "execution_count": 30,
     "metadata": {},
     "output_type": "execute_result"
    }
   ],
   "source": [
    "sample_prediction.describe()"
   ]
  },
  {
   "cell_type": "code",
   "execution_count": null,
   "id": "f527c03c",
   "metadata": {
    "papermill": {
     "duration": 0.183342,
     "end_time": "2023-10-24T11:38:36.673508",
     "exception": false,
     "start_time": "2023-10-24T11:38:36.490166",
     "status": "completed"
    },
    "tags": []
   },
   "outputs": [],
   "source": []
  }
 ],
 "metadata": {
  "kernelspec": {
   "display_name": "Python 3 (ipykernel)",
   "language": "python",
   "name": "python3"
  },
  "language_info": {
   "codemirror_mode": {
    "name": "ipython",
    "version": 3
   },
   "file_extension": ".py",
   "mimetype": "text/x-python",
   "name": "python",
   "nbconvert_exporter": "python",
   "pygments_lexer": "ipython3",
   "version": "3.11.4"
  },
  "papermill": {
   "default_parameters": {},
   "duration": 1257.483356,
   "end_time": "2023-10-24T11:38:40.368163",
   "environment_variables": {},
   "exception": null,
   "input_path": "__notebook__.ipynb",
   "output_path": "__notebook__.ipynb",
   "parameters": {},
   "start_time": "2023-10-24T11:17:42.884807",
   "version": "2.4.0"
  }
 },
 "nbformat": 4,
 "nbformat_minor": 5
}
